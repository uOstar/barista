{
 "cells": [
  {
   "cell_type": "code",
   "execution_count": 30,
   "metadata": {},
   "outputs": [],
   "source": [
    "import numpy as np\n",
    "import pandas as pd\n",
    "import time\n",
    "\n",
    "NUM_FUNCTION_CALLS = 1000000\n",
    "def time_function(func, name):\n",
    "    start_time = time.time()\n",
    "    for i in range(NUN_FUNCTION_CALLS):\n",
    "        func() \n",
    "    end_time = time.time()\n",
    "    print('{} - Ran in: {} ns'.format(\n",
    "        name, \n",
    "        1000000*(end_time - start_time)/NUM_FUNCTION_CALLS\n",
    "    ))"
   ]
  },
  {
   "cell_type": "markdown",
   "metadata": {},
   "source": [
    "### Numpy vs. Native Python \n",
    "lets explore the following:\n",
    " - Array creation\n",
    " - Array appending\n",
    " - Bit Operations"
   ]
  },
  {
   "cell_type": "code",
   "execution_count": 31,
   "metadata": {},
   "outputs": [
    {
     "name": "stdout",
     "output_type": "stream",
     "text": [
      "Numpy Array Creation - Ran in: 3.0367910862 ns\n",
      "Native Array Creation - Ran in: 4.84885311127 ns\n"
     ]
    }
   ],
   "source": [
    "time_function(lambda: np.ones(1000), 'Numpy Array Creation')\n",
    "time_function(lambda: [1]*1000, 'Native Array Creation')"
   ]
  },
  {
   "cell_type": "code",
   "execution_count": null,
   "metadata": {},
   "outputs": [],
   "source": [
    "time_function(lambda: [], 'Numpy Array Appending')\n",
    "time_function(lambda: [].push(2), 'Native Array Appending')\n"
   ]
  },
  {
   "cell_type": "code",
   "execution_count": 32,
   "metadata": {},
   "outputs": [
    {
     "name": "stdout",
     "output_type": "stream",
     "text": [
      "Numpy Bit Shifting - Ran in: 3.29352402687 ns\n",
      "Native Bit Shifting - Ran in: 0.231271982193 ns\n"
     ]
    }
   ],
   "source": [
    "time_function(lambda: np.bitwise_or(np.left_shift(0b01001011, 8), 0b01010011), 'Numpy Bit Shifting')\n",
    "time_function(lambda: 0b01001011 << 8 | 0b01010011, 'Native Bit Shifting')"
   ]
  },
  {
   "cell_type": "markdown",
   "metadata": {},
   "source": [
    "### Pandas vs. Numpy"
   ]
  }
 ],
 "metadata": {
  "kernelspec": {
   "display_name": "Python 2",
   "language": "python",
   "name": "python2"
  },
  "language_info": {
   "codemirror_mode": {
    "name": "ipython",
    "version": 2
   },
   "file_extension": ".py",
   "mimetype": "text/x-python",
   "name": "python",
   "nbconvert_exporter": "python",
   "pygments_lexer": "ipython2",
   "version": "2.7.11"
  }
 },
 "nbformat": 4,
 "nbformat_minor": 2
}
